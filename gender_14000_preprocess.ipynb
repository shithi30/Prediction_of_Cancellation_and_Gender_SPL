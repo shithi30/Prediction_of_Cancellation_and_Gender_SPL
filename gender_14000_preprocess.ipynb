{
 "cells": [
  {
   "cell_type": "code",
   "execution_count": 17,
   "metadata": {},
   "outputs": [],
   "source": [
    "import pandas as pd\n",
    "import numpy as np"
   ]
  },
  {
   "cell_type": "code",
   "execution_count": 18,
   "metadata": {},
   "outputs": [],
   "source": [
    "# loading dataset\n",
    "df=pd.read_csv(\"gender_14000.csv\") \n",
    "\n",
    "names_orig=list(df[\"name\"])\n",
    "labels_orig=list(df[\"gender\"])\n",
    "\n",
    "len_names_orig=len(names_orig)\n",
    "\n",
    "# replacing spaces with dots\n",
    "names_original_spaces_dotted=[]\n",
    "for i in range(0, len_names_orig):\n",
    "    name=\"\"\n",
    "    names_orig[i]=str(names_orig[i])\n",
    "    for j in range(0, len(names_orig[i])):\n",
    "        if(names_orig[i][j]>='A' and names_orig[i][j]<='Z'): name=name+names_orig[i][j]\n",
    "        else: name=name+\".\"\n",
    "    names_original_spaces_dotted.append(name)\n",
    "\n",
    "# truncating names/appending dots\n",
    "names_original_padded=[] \n",
    "for i in range(0, len_names_orig):\n",
    "    name=\"\"\n",
    "    for j in range(0, 30):\n",
    "        if(j<len(names_original_spaces_dotted[i])): name=name+names_original_spaces_dotted[i][j]\n",
    "        else: name=name+'.'\n",
    "    names_original_padded.append(name)\n",
    "\n",
    "# representing names in terms of ascii values\n",
    "names_ascii=[]\n",
    "for i in range(0, len_names_orig):\n",
    "    name=names_original_padded[i]\n",
    "    name_ascii=[]\n",
    "    for j in range(0, len(name)): name_ascii.append(ord(name[j]))\n",
    "    names_ascii.append(name_ascii)  "
   ]
  },
  {
   "cell_type": "code",
   "execution_count": 19,
   "metadata": {},
   "outputs": [],
   "source": [
    "# take the preprocessed names, labels into a dataframe and then into a csv\n",
    "df=pd.DataFrame.from_records(names_ascii)\n",
    "df['labels']=labels_orig\n",
    "df.to_csv (\"gender_14000_preprocessed_exp.csv\", index = False, header=True)"
   ]
  },
  {
   "cell_type": "code",
   "execution_count": 21,
   "metadata": {},
   "outputs": [
    {
     "name": "stdout",
     "output_type": "stream",
     "text": [
      "number of training examples = 14000\n",
      "X_train shape: (30, 14000)\n"
     ]
    }
   ],
   "source": [
    "# take the preprocessed names into a form passable to the computation graph\n",
    "X_real_world=np.array(names_ascii).T\n",
    "\n",
    "print (\"number of training examples = \" + str(X_real_world.shape[1]))      \n",
    "print (\"X_train shape: \" + str(X_real_world.shape))"
   ]
  },
  {
   "cell_type": "code",
   "execution_count": null,
   "metadata": {},
   "outputs": [],
   "source": []
  }
 ],
 "metadata": {
  "kernelspec": {
   "display_name": "Python 3",
   "language": "python",
   "name": "python3"
  },
  "language_info": {
   "codemirror_mode": {
    "name": "ipython",
    "version": 3
   },
   "file_extension": ".py",
   "mimetype": "text/x-python",
   "name": "python",
   "nbconvert_exporter": "python",
   "pygments_lexer": "ipython3",
   "version": "3.7.3"
  }
 },
 "nbformat": 4,
 "nbformat_minor": 2
}
